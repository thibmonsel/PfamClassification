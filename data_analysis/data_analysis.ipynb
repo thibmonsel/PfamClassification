{
 "metadata": {
  "language_info": {
   "codemirror_mode": {
    "name": "ipython",
    "version": 3
   },
   "file_extension": ".py",
   "mimetype": "text/x-python",
   "name": "python",
   "nbconvert_exporter": "python",
   "pygments_lexer": "ipython3",
   "version": "3.8.5-final"
  },
  "orig_nbformat": 2,
  "kernelspec": {
   "name": "python3",
   "display_name": "Python 3.8.5 64-bit ('instadeep': conda)",
   "metadata": {
    "interpreter": {
     "hash": "66a9d1945b875d5c7687ab58d6fa0073edec8cf254dcde4e83714267dbda301f"
    }
   }
  }
 },
 "nbformat": 4,
 "nbformat_minor": 2,
 "cells": [
  {
   "source": [
    "# Dataset Analysis"
   ],
   "cell_type": "markdown",
   "metadata": {}
  },
  {
   "source": [
    "import os, sys \n",
    "sys.path.append(\"../\")\n",
    "from utils import *\n",
    "import matplotlib.pyplot as plt\n",
    "%matplotlib inline"
   ],
   "cell_type": "code",
   "metadata": {},
   "execution_count": 1,
   "outputs": []
  },
  {
   "source": [
    "## Creating a merged csv file of train data"
   ],
   "cell_type": "markdown",
   "metadata": {}
  },
  {
   "source": [
    "Creating a merged train csv file in order to do some data analysis"
   ],
   "cell_type": "markdown",
   "metadata": {}
  },
  {
   "cell_type": "code",
   "execution_count": 2,
   "metadata": {},
   "outputs": [],
   "source": [
    "\n",
    "#concatenate_data(\"../raw_train.csv\")"
   ]
  },
  {
   "source": [
    "Getting general information on the train data"
   ],
   "cell_type": "markdown",
   "metadata": {}
  },
  {
   "cell_type": "code",
   "execution_count": 3,
   "metadata": {},
   "outputs": [
    {
     "output_type": "stream",
     "name": "stdout",
     "text": [
      "------------------\n",
      "File information ../raw_train.csv\n",
      "File has 1086741 elements\n",
      "There are 13844 unique Unnamed: 0 and here is an example : \n",
      " 4455 \n",
      " --------------\n",
      "There are 17929 unique family_id and here is an example : \n",
      " SecA_SW \n",
      " --------------\n",
      "There are 1086741 unique sequence_name and here is an example : \n",
      " B4EFF0_BURCJ/17-123 \n",
      " --------------\n",
      "There are 17929 unique family_accession and here is an example : \n",
      " PF15711.5 \n",
      " --------------\n",
      "There are 1086326 unique aligned_sequence and here is an example : \n",
      " RNAPCPCGSGKKFKNC.HAK \n",
      " --------------\n",
      "There are 1086315 unique sequence and here is an example : \n",
      " SLTVTVADEAGLHARPASRIAELAAEAAGDVTLSCHGESAEADSAMMLMSLGVSQGASVTISGDVSDKDVIDRIATAIE \n",
      " --------------\n"
     ]
    }
   ],
   "source": [
    "get_information_on_data(\"../raw_train.csv\")"
   ]
  },
  {
   "source": [
    "Snippet of how the data looks like"
   ],
   "cell_type": "markdown",
   "metadata": {}
  },
  {
   "cell_type": "code",
   "execution_count": 4,
   "metadata": {},
   "outputs": [
    {
     "output_type": "execute_result",
     "data": {
      "text/plain": [
       "      family_id         sequence_name family_accession  \\\n",
       "0   GMC_oxred_C  A4WZS5_RHOS5/416-539       PF05199.13   \n",
       "1       DUF2887    K9QI92_9NOSO/3-203        PF11103.8   \n",
       "2       zf-IS66    Q92LC9_RHIME/32-75        PF13005.7   \n",
       "3  Asp_decarbox    X2GQZ4_9BACI/1-115       PF02261.16   \n",
       "4       Filamin  A7SQM3_NEMVE/342-439       PF00630.19   \n",
       "\n",
       "                                    aligned_sequence  \\\n",
       "0  PHPE.SRIRLST.RRDAHGMP.....IP.RIESRLGP............   \n",
       "1  RDSIYYQIFKRFPALIFEL..VD.NRPPQAQNYRFESVEVKETAFR...   \n",
       "2  .TCCPDCGG.E..LRLVGED.AS....EILDMI.AAQMKVIEVARL...   \n",
       "3  MLRMMMNSKIHRATVTEADLNYVGSITIDEDILDAVGMLPNEKVHI...   \n",
       "4  TACPKQ.CTA....RGLG.............LK.AAPVT.QPT..R...   \n",
       "\n",
       "                                            sequence  \n",
       "0  PHPESRIRLSTRRDAHGMPIPRIESRLGPDAFARLRFMARTCRAIL...  \n",
       "1  RDSIYYQIFKRFPALIFELVDNRPPQAQNYRFESVEVKETAFRIDG...  \n",
       "2       TCCPDCGGELRLVGEDASEILDMIAAQMKVIEVARLKKSCRCCE  \n",
       "3  MLRMMMNSKIHRATVTEADLNYVGSITIDEDILDAVGMLPNEKVHI...  \n",
       "4  TACPKQCTARGLGLKAAPVTQPTRFVVILNDCHGQPLGRSEGELEV...  "
      ],
      "text/html": "<div>\n<style scoped>\n    .dataframe tbody tr th:only-of-type {\n        vertical-align: middle;\n    }\n\n    .dataframe tbody tr th {\n        vertical-align: top;\n    }\n\n    .dataframe thead th {\n        text-align: right;\n    }\n</style>\n<table border=\"1\" class=\"dataframe\">\n  <thead>\n    <tr style=\"text-align: right;\">\n      <th></th>\n      <th>family_id</th>\n      <th>sequence_name</th>\n      <th>family_accession</th>\n      <th>aligned_sequence</th>\n      <th>sequence</th>\n    </tr>\n  </thead>\n  <tbody>\n    <tr>\n      <th>0</th>\n      <td>GMC_oxred_C</td>\n      <td>A4WZS5_RHOS5/416-539</td>\n      <td>PF05199.13</td>\n      <td>PHPE.SRIRLST.RRDAHGMP.....IP.RIESRLGP............</td>\n      <td>PHPESRIRLSTRRDAHGMPIPRIESRLGPDAFARLRFMARTCRAIL...</td>\n    </tr>\n    <tr>\n      <th>1</th>\n      <td>DUF2887</td>\n      <td>K9QI92_9NOSO/3-203</td>\n      <td>PF11103.8</td>\n      <td>RDSIYYQIFKRFPALIFEL..VD.NRPPQAQNYRFESVEVKETAFR...</td>\n      <td>RDSIYYQIFKRFPALIFELVDNRPPQAQNYRFESVEVKETAFRIDG...</td>\n    </tr>\n    <tr>\n      <th>2</th>\n      <td>zf-IS66</td>\n      <td>Q92LC9_RHIME/32-75</td>\n      <td>PF13005.7</td>\n      <td>.TCCPDCGG.E..LRLVGED.AS....EILDMI.AAQMKVIEVARL...</td>\n      <td>TCCPDCGGELRLVGEDASEILDMIAAQMKVIEVARLKKSCRCCE</td>\n    </tr>\n    <tr>\n      <th>3</th>\n      <td>Asp_decarbox</td>\n      <td>X2GQZ4_9BACI/1-115</td>\n      <td>PF02261.16</td>\n      <td>MLRMMMNSKIHRATVTEADLNYVGSITIDEDILDAVGMLPNEKVHI...</td>\n      <td>MLRMMMNSKIHRATVTEADLNYVGSITIDEDILDAVGMLPNEKVHI...</td>\n    </tr>\n    <tr>\n      <th>4</th>\n      <td>Filamin</td>\n      <td>A7SQM3_NEMVE/342-439</td>\n      <td>PF00630.19</td>\n      <td>TACPKQ.CTA....RGLG.............LK.AAPVT.QPT..R...</td>\n      <td>TACPKQCTARGLGLKAAPVTQPTRFVVILNDCHGQPLGRSEGELEV...</td>\n    </tr>\n  </tbody>\n</table>\n</div>"
     },
     "metadata": {},
     "execution_count": 4
    }
   ],
   "source": [
    "df = open_data(\"../random_split/train/data-00000-of-00080\")\n",
    "df.head()"
   ]
  },
  {
   "source": [
    "Generate a pandas profile "
   ],
   "cell_type": "markdown",
   "metadata": {}
  },
  {
   "cell_type": "code",
   "execution_count": 5,
   "metadata": {},
   "outputs": [],
   "source": [
    "#generate_html_profiling(\"../raw_train.csv\", 'your_report.html')"
   ]
  },
  {
   "source": [
    "For viewing data analysis prefer refer to the html generated panda Profiler.  \n",
    "You can go to your terminal and open by executing ```open(\"your_report.html\")``` or you can simply open it by double clicking on the file. \n",
    "Each datapoint has 5 columns ie :\n",
    "- `family_id`\n",
    "- `sequence_name`\n",
    "- `family_accession`\n",
    "- `aligned_sequence`\n",
    "- `sequence` \n",
    "\n",
    "The data has `1086741` observations. \n",
    "Each observation is one unique protein that has its `sequence_name`, `sequence` and `aligned_sequence`.  \n",
    "-  `sequence_name` is a unique identifier given to a protein sequence to allow for tracking of that sequence record.\n",
    "- `sequence` is the protein amino acid sequence.  \n",
    "- `aligned_sequence`takes into account the protein's multiple sequence alignment.  \n",
    "\n",
    "Each observation (ie protein) refers to one class (ie `family_accession` or `family_id`).\n",
    "\n",
    "We are dealing with a multiclassification problem with `17929` classes.  \n",
    "Withing those classes we have `514` classes that are represented only once. For those classes we will have trouble on classifying them.  \n",
    "To get a better idea of the number of datapoints for some classes there is the function `plot_` that plots the value counts of some classes.  \n",
    "We have roughly `classes` that have less than `9` occurences in the trainset. \n"
   ],
   "cell_type": "markdown",
   "metadata": {}
  },
  {
   "cell_type": "code",
   "execution_count": 6,
   "metadata": {},
   "outputs": [],
   "source": [
    "def plot_(value_counter, m, M):\n",
    "    plt.plot(value_counter.keys()[m: M], value_counter[m: M])\n",
    "    plt.ylabel(\"Occurence\")\n",
    "    plt.xlabel(\"Family ids\")\n",
    "    plt.title(\"Value count of family_id in train data\")\n",
    "    plt.show()"
   ]
  },
  {
   "cell_type": "code",
   "execution_count": 7,
   "metadata": {},
   "outputs": [],
   "source": [
    "df = open_data(\"../raw_train.csv\")\n",
    "a = df['family_accession'].value_counts()"
   ]
  },
  {
   "cell_type": "code",
   "execution_count": 8,
   "metadata": {},
   "outputs": [],
   "source": [
    "plot_(a, 0,1000)"
   ]
  },
  {
   "source": [
    "Thanks to the analysis of the data, the following things will be done in order to have \"acceptable\" training for the problem.  \n",
    "- We will filter family_accession that occurs less than 50 times in our dataset.\n",
    "- We will remove sequence that more than 500 acido-amids.\n",
    "\n",
    "These filtration values were taken arbitrarily (but in an advised way). Further analysis might be required in order to not take out unecessary \"good\" data. "
   ],
   "cell_type": "markdown",
   "metadata": {}
  },
  {
   "source": [
    "## Getting Profiler report for new filtered data "
   ],
   "cell_type": "markdown",
   "metadata": {}
  },
  {
   "cell_type": "code",
   "execution_count": 9,
   "metadata": {},
   "outputs": [
    {
     "output_type": "stream",
     "name": "stderr",
     "text": [
      "Summarize dataset: 100%|██████████| 17/17 [00:47<00:00,  2.77s/it, Completed]\n",
      "Generate report structure: 100%|██████████| 1/1 [00:12<00:00, 12.70s/it]\n",
      "Render HTML: 100%|██████████| 1/1 [00:00<00:00,  3.40it/s]\n",
      "Export report to file: 100%|██████████| 1/1 [00:00<00:00, 333.01it/s]\n"
     ]
    }
   ],
   "source": [
    "df = open_data(\"../raw_train.csv\")\n",
    "df_clean = get_clean_data(df)\n",
    "df_clean.to_csv(\"../raw_clean_data.csv\")\n",
    "generate_html_profiling(\"../raw_clean_data.csv\", \"your_clean_report.html\")"
   ]
  },
  {
   "source": [
    "Hence, here we therefore have a dataset with : \n",
    "- `870,000` unique points\n",
    "- `5367` classes (ie `family_accession`)"
   ],
   "cell_type": "markdown",
   "metadata": {}
  }
 ]
}